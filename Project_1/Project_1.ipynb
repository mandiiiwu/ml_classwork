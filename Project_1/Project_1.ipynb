{
 "cells": [
  {
   "cell_type": "code",
   "execution_count": null,
   "id": "a594b645",
   "metadata": {},
   "outputs": [],
   "source": [
    "# This Python 3 environment comes with many helpful analytics libraries installed\n",
    "# It is defined by the kaggle/python Docker image: https://github.com/kaggle/docker-python\n",
    "# For example, here's several helpful packages to load\n",
    "\n",
    "\n",
    "# Input data files are available in the read-only \"../input/\" directory\n",
    "# For example, running this (by clicking run or pressing Shift+Enter) will list all files under the input directory\n",
    "\n",
    "import os\n",
    "\n",
    "for dirname, _, filenames in os.walk(\"./\"):\n",
    "    for filename in filenames:\n",
    "        print(os.path.join(dirname, filename))\n",
    "\n",
    "# You can write up to 20GB to the current directory (/kaggle/working/) that gets preserved as output when you create a version using \"Save & Run All\"\n",
    "# You can also write temporary files to /kaggle/temp/, but they won't be saved outside of the current session\n",
    "\n",
    "import numpy as np\n",
    "import pandas as pd\n",
    "import matplotlib.pyplot as plt\n",
    "import sklearn as skl"
   ]
  },
  {
   "cell_type": "markdown",
   "id": "a6fd16a9",
   "metadata": {},
   "source": [
    "# 1. Frame the problem\n",
    "Using the customer description, Define the problem your trying to solve in your own words (remember this is not technial but must be specific so the customer understands the project"
   ]
  },
  {
   "cell_type": "markdown",
   "id": "a40d0c3b",
   "metadata": {},
   "source": [
    "### This project is to predict how likely each passenger aboard the Titanic was to survive the sinking of the vessel, based on the variables given in the passenger database."
   ]
  },
  {
   "cell_type": "markdown",
   "id": "a3115889",
   "metadata": {},
   "source": [
    "# 2. Get the Data \n",
    "Define how you recieved the data (provided, gathered..)"
   ]
  },
  {
   "cell_type": "code",
   "execution_count": null,
   "id": "a7fad793",
   "metadata": {},
   "outputs": [],
   "source": [
    "OG_DF = pd.read_csv('./data/titanic.csv') # load csv as dataframe\n",
    "\n",
    "OG_DF.head(7) "
   ]
  },
  {
   "cell_type": "markdown",
   "id": "aa2a07d1",
   "metadata": {},
   "source": [
    "# 3. Explore the Data\n",
    "Gain insights into the data you have from step 2, making sure to identify any bias"
   ]
  },
  {
   "cell_type": "markdown",
   "id": "6b3f6e8c",
   "metadata": {},
   "source": [
    "### to-do: VISUALIZE THE FOLLOWING\n",
    "* histogram of ages stratified by gender\n",
    "* number of survivors stratified by age and gender\n",
    "* relationship of sibsp/parch to survival\n",
    "* fare price vs pclass + survival rates compared to this too"
   ]
  },
  {
   "cell_type": "code",
   "execution_count": null,
   "id": "242a1509",
   "metadata": {},
   "outputs": [],
   "source": [
    "# print the number of nan values in each column\n",
    "for col_name in OG_DF:\n",
    "    print(f'Number of NaN values in {col_name} column: {OG_DF[col_name].isnull().sum()}')"
   ]
  },
  {
   "cell_type": "code",
   "execution_count": null,
   "id": "4012af7e",
   "metadata": {},
   "outputs": [],
   "source": [
    "# create new df that can be modified  \n",
    "df = OG_DF.copy() \n",
    "\n",
    "# remove all rows that have an age value of NaN\n",
    "df.dropna(axis=0, subset=['Age'], inplace=True)\n",
    "\n",
    "print(f'Number of NaN values in age column in modified dataframe: {df[\"Age\"].isnull().sum()}')"
   ]
  },
  {
   "cell_type": "code",
   "execution_count": null,
   "id": "88ef721e",
   "metadata": {},
   "outputs": [],
   "source": [
    "# show number of survivors by age group only via bar graph\n",
    "\n",
    "survivors = df[df['Survived'] == 1]\n",
    "age_groups = (survivors['Age'] // 10) * 10 \n",
    "age_bins = [0, 10, 20, 30, 40, 50, 60, 70, 80]\n",
    "\n",
    "svvs_by_age = age_groups.value_counts().sort_index()\n",
    "\n",
    "plt.grid(True, alpha=0.3)\n",
    "plt.bar(svvs_by_age.index, svvs_by_age.values, width=8)\n",
    "\n",
    "for x_coord, y_coord in svvs_by_age.items():\n",
    "    plt.text(x_coord, y_coord+0.5, str(y_coord), ha='center', color='black')\n",
    "plt.xlabel('Age Groups (in bins of 10)')\n",
    "plt.xticks(age_bins)\n",
    "plt.ylabel('Number of Survivors')\n",
    "plt.title('Number of Survivors by Age Group')"
   ]
  },
  {
   "cell_type": "code",
   "execution_count": null,
   "id": "810b9677",
   "metadata": {},
   "outputs": [],
   "source": [
    "# show number of survivors by age group, but this time, indicate differences between gender\n",
    "\n",
    "m_by_age = (((survivors[survivors['Sex'] == 'male'])['Age'] // 10) * 10).value_counts().sort_index() \n",
    "f_by_age = (((survivors[survivors['Sex'] == 'female'])['Age'] // 10) * 10).value_counts().sort_index() \n",
    "width = 4\n",
    "spacing = 0.1\n",
    "\n",
    "plt.bar([i - width/2 - spacing for i in age_bins], [m_by_age.get(i, 0) for i in age_bins], \n",
    "        width=width, alpha=0.8, color='blue')\n",
    "plt.bar([i + width/2 + spacing for i in age_bins], [f_by_age.get(i, 0) for i in age_bins], \n",
    "        width=width, alpha=0.8, color='red')\n",
    "\n",
    "plt.xlabel('Age Groups in bins of 10')\n",
    "plt.xticks(age_bins)\n",
    "plt.ylabel('Number of Survivors')"
   ]
  },
  {
   "cell_type": "markdown",
   "id": "023af044",
   "metadata": {},
   "source": [
    "# 4.Prepare the Data\n",
    "\n",
    "\n",
    "Apply any data transformations and explain what and why\n"
   ]
  },
  {
   "cell_type": "code",
   "execution_count": null,
   "id": "989fdc83",
   "metadata": {},
   "outputs": [],
   "source": []
  },
  {
   "cell_type": "markdown",
   "id": "91073701",
   "metadata": {},
   "source": [
    "# 5. Model the data\n",
    "Using selected ML models, experment with your choices and describe your findings. Finish by selecting a Model to continue with\n"
   ]
  },
  {
   "cell_type": "code",
   "execution_count": null,
   "id": "0bcae658",
   "metadata": {},
   "outputs": [],
   "source": []
  },
  {
   "cell_type": "markdown",
   "id": "35657075",
   "metadata": {},
   "source": [
    "# 6. Fine Tune the Model\n",
    "\n",
    "With the select model descibe the steps taken to acheve the best rusults possiable \n"
   ]
  },
  {
   "cell_type": "code",
   "execution_count": null,
   "id": "5b9e909d",
   "metadata": {},
   "outputs": [],
   "source": []
  },
  {
   "cell_type": "markdown",
   "id": "296c89f1",
   "metadata": {},
   "source": [
    "# 7. Present\n",
    "In a customer faceing Document provide summery of finding and detail approach taken\n"
   ]
  },
  {
   "cell_type": "code",
   "execution_count": null,
   "id": "078be251",
   "metadata": {},
   "outputs": [],
   "source": []
  },
  {
   "cell_type": "markdown",
   "id": "efb75ba7",
   "metadata": {},
   "source": [
    "# 8. Launch the Model System\n",
    "Define your production run code, This should be self susficent and require only your model pramaters \n"
   ]
  },
  {
   "cell_type": "code",
   "execution_count": null,
   "id": "88ebef8b",
   "metadata": {},
   "outputs": [],
   "source": [
    "def infrence(prams):\n",
    "    results = m.run(prams)\n",
    "    return results "
   ]
  }
 ],
 "metadata": {
  "kernelspec": {
   "display_name": "Python 3",
   "language": "python",
   "name": "python3"
  },
  "language_info": {
   "name": "python",
   "version": "3.8.0"
  }
 },
 "nbformat": 4,
 "nbformat_minor": 5
}
