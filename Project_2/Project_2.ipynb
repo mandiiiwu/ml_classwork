{
 "cells": [
  {
   "cell_type": "code",
   "execution_count": 2,
   "metadata": {
    "_cell_guid": "b1076dfc-b9ad-4769-8c92-a6c4dae69d19",
    "_uuid": "8f2839f25d086af736a60e9eeb907d3b93b6e0e5"
   },
   "outputs": [],
   "source": [
    "# This Python 3 environment comes with many helpful analytics libraries installed\n",
    "# It is defined by the kaggle/python Docker image: https://github.com/kaggle/docker-python\n",
    "# For example, here's several helpful packages to load\n",
    "\n",
    "\n",
    "# Input data files are available in the read-only \"../input/\" directory\n",
    "# For example, running this (by clicking run or pressing Shift+Enter) will list all files under the input directory\n",
    "\n",
    "import os\n",
    "\n",
    "for dirname, _, filenames in os.walk(\"./\"):\n",
    "    for filename in filenames:\n",
    "        print(os.path.join(dirname, filename))\n",
    "\n",
    "# You can write up to 20GB to the current directory (/kaggle/working/) that gets preserved as output when you create a version using \"Save & Run All\"\n",
    "# You can also write temporary files to /kaggle/temp/, but they won't be saved outside of the current session"
   ]
  },
  {
   "cell_type": "code",
   "execution_count": 2,
   "metadata": {},
   "outputs": [],
   "source": [
    "import requests\n",
    "import time\n",
    "import pandas as pd\n",
    "import numpy as np\n",
    "import matplotlib.pyplot as plt\n",
    "from homeharvest import scrape_property"
   ]
  },
  {
   "cell_type": "markdown",
   "metadata": {},
   "source": [
    "# 1. Frame the problem\n",
    "Using the customer description, Define the problem your trying to solve in your own words (remember this is not technial but must be specific so the customer understands the project"
   ]
  },
  {
   "cell_type": "code",
   "execution_count": null,
   "metadata": {},
   "outputs": [],
   "source": []
  },
  {
   "cell_type": "markdown",
   "metadata": {},
   "source": [
    "# 2. Get the Data \n",
    "Define how you recieved the data (provided, gathered..)"
   ]
  },
  {
   "cell_type": "code",
   "execution_count": 3,
   "metadata": {},
   "outputs": [
    {
     "name": "stdout",
     "output_type": "stream",
     "text": [
      "for zip code 10003 + listing type as sold, 532 results were found\n",
      "for zip code 10003 + listing type as for_sale, 357 results were found\n",
      "for zip code 10003 + listing type as pending, 67 results were found\n",
      "for zip code 10003 + listing type as for_rent, 284 results were found\n",
      "for zip code 10011 + listing type as sold, 756 results were found\n",
      "for zip code 10011 + listing type as for_sale, 475 results were found\n",
      "for zip code 10011 + listing type as pending, 74 results were found\n",
      "for zip code 10011 + listing type as for_rent, 424 results were found\n",
      "for zip code 10014 + listing type as sold, 360 results were found\n",
      "for zip code 10014 + listing type as for_sale, 211 results were found\n",
      "for zip code 10014 + listing type as pending, 28 results were found\n",
      "for zip code 10014 + listing type as for_rent, 311 results were found\n",
      "for zip code 10012 + listing type as sold, 163 results were found\n",
      "for zip code 10012 + listing type as for_sale, 155 results were found\n",
      "for zip code 10012 + listing type as pending, 20 results were found\n",
      "for zip code 10012 + listing type as for_rent, 149 results were found\n"
     ]
    },
    {
     "name": "stderr",
     "output_type": "stream",
     "text": [
      "/tmp/ipykernel_2601692/2052247309.py:30: FutureWarning: The behavior of DataFrame concatenation with empty or all-NA entries is deprecated. In a future version, this will no longer exclude empty or all-NA columns when determining the result dtypes. To retain the old behavior, exclude the relevant entries before the concat operation.\n",
      "  all_properties = pd.concat(all_properties, ignore_index=True)\n"
     ]
    }
   ],
   "source": [
    "all_properties = [] \n",
    "\n",
    "locations = [\n",
    "    '10003',\n",
    "    '10011',\n",
    "    '10014',\n",
    "    '10012',\n",
    "] # greenwich village zip codes \n",
    "\n",
    "listing_types = [\n",
    "    'sold',\n",
    "    'for_sale',\n",
    "    'pending',\n",
    "    'for_rent'\n",
    "] # all listings\n",
    "\n",
    "for loc in locations:\n",
    "    for listing_type in listing_types:\n",
    "        properties = scrape_property(\n",
    "            location=loc,\n",
    "            listing_type=listing_type,\n",
    "            past_days=730\n",
    "        )\n",
    "        \n",
    "        print(f'for zip code {loc} + listing type as {listing_type}, {len(properties)} results were found')\n",
    "        \n",
    "        all_properties.append(properties)\n",
    "        # time.sleep(5)\n",
    "\n",
    "all_properties = pd.concat(all_properties, ignore_index=True)\n",
    "all_properties = all_properties.drop_duplicates(subset=['property_id'])\n",
    "all_properties.to_csv('greenwich_village_housing_data.csv', index=False)"
   ]
  },
  {
   "cell_type": "code",
   "execution_count": 5,
   "metadata": {},
   "outputs": [
    {
     "name": "stdout",
     "output_type": "stream",
     "text": [
      "4088\n"
     ]
    },
    {
     "data": {
      "text/html": [
       "<div>\n",
       "<style scoped>\n",
       "    .dataframe tbody tr th:only-of-type {\n",
       "        vertical-align: middle;\n",
       "    }\n",
       "\n",
       "    .dataframe tbody tr th {\n",
       "        vertical-align: top;\n",
       "    }\n",
       "\n",
       "    .dataframe thead th {\n",
       "        text-align: right;\n",
       "    }\n",
       "</style>\n",
       "<table border=\"1\" class=\"dataframe\">\n",
       "  <thead>\n",
       "    <tr style=\"text-align: right;\">\n",
       "      <th></th>\n",
       "      <th>property_url</th>\n",
       "      <th>property_id</th>\n",
       "      <th>listing_id</th>\n",
       "      <th>permalink</th>\n",
       "      <th>mls</th>\n",
       "      <th>mls_id</th>\n",
       "      <th>status</th>\n",
       "      <th>mls_status</th>\n",
       "      <th>text</th>\n",
       "      <th>style</th>\n",
       "      <th>...</th>\n",
       "      <th>builder_id</th>\n",
       "      <th>builder_name</th>\n",
       "      <th>office_id</th>\n",
       "      <th>office_mls_set</th>\n",
       "      <th>office_name</th>\n",
       "      <th>office_email</th>\n",
       "      <th>office_phones</th>\n",
       "      <th>nearby_schools</th>\n",
       "      <th>primary_photo</th>\n",
       "      <th>alt_photos</th>\n",
       "    </tr>\n",
       "  </thead>\n",
       "  <tbody>\n",
       "    <tr>\n",
       "      <th>0</th>\n",
       "      <td>https://www.realtor.com/realestateandhomes-det...</td>\n",
       "      <td>9454096063</td>\n",
       "      <td>2969816782</td>\n",
       "      <td>78-Irving-Pl-Unit-Carriage_New-York_NY_10003_M...</td>\n",
       "      <td>DENY</td>\n",
       "      <td>23110201</td>\n",
       "      <td>SOLD</td>\n",
       "      <td>Sold</td>\n",
       "      <td>Own a piece of NYC history on a quintessential...</td>\n",
       "      <td>CONDOS</td>\n",
       "      <td>...</td>\n",
       "      <td>&lt;NA&gt;</td>\n",
       "      <td>&lt;NA&gt;</td>\n",
       "      <td>2277876</td>\n",
       "      <td>O-DENY-50</td>\n",
       "      <td>Douglas Elliman</td>\n",
       "      <td>lead.manager@elliman.com</td>\n",
       "      <td>[{'number': '2128917000', 'type': 'Office', 'p...</td>\n",
       "      <td>SUCCESS ACADEMY CHARTER SCHOOL-UNION SQUARE, N...</td>\n",
       "      <td>https://ap.rdcpix.com/40dc180fb1a4a48f3acc5118...</td>\n",
       "      <td>https://ap.rdcpix.com/40dc180fb1a4a48f3acc5118...</td>\n",
       "    </tr>\n",
       "    <tr>\n",
       "      <th>1</th>\n",
       "      <td>https://www.realtor.com/realestateandhomes-det...</td>\n",
       "      <td>4103114457</td>\n",
       "      <td>&lt;NA&gt;</td>\n",
       "      <td>243-E-13th-St_New-York_NY_10003_M41031-14457</td>\n",
       "      <td>&lt;NA&gt;</td>\n",
       "      <td>&lt;NA&gt;</td>\n",
       "      <td>SOLD</td>\n",
       "      <td>&lt;NA&gt;</td>\n",
       "      <td>&lt;NA&gt;</td>\n",
       "      <td>OTHER</td>\n",
       "      <td>...</td>\n",
       "      <td>&lt;NA&gt;</td>\n",
       "      <td>&lt;NA&gt;</td>\n",
       "      <td>&lt;NA&gt;</td>\n",
       "      <td>&lt;NA&gt;</td>\n",
       "      <td>&lt;NA&gt;</td>\n",
       "      <td>&lt;NA&gt;</td>\n",
       "      <td>&lt;NA&gt;</td>\n",
       "      <td>SUCCESS ACADEMY CHARTER SCHOOL-UNION SQUARE, N...</td>\n",
       "      <td>https://ar.rdcpix.com/780681421/a23b8931dec935...</td>\n",
       "      <td>https://ar.rdcpix.com/780681421/a23b8931dec935...</td>\n",
       "    </tr>\n",
       "    <tr>\n",
       "      <th>2</th>\n",
       "      <td>https://www.realtor.com/realestateandhomes-det...</td>\n",
       "      <td>3590652261</td>\n",
       "      <td>&lt;NA&gt;</td>\n",
       "      <td>28-E-10th-St-Apt-1K_New-York_NY_10003_M35906-5...</td>\n",
       "      <td>&lt;NA&gt;</td>\n",
       "      <td>&lt;NA&gt;</td>\n",
       "      <td>SOLD</td>\n",
       "      <td>&lt;NA&gt;</td>\n",
       "      <td>&lt;NA&gt;</td>\n",
       "      <td>CONDO</td>\n",
       "      <td>...</td>\n",
       "      <td>&lt;NA&gt;</td>\n",
       "      <td>&lt;NA&gt;</td>\n",
       "      <td>&lt;NA&gt;</td>\n",
       "      <td>&lt;NA&gt;</td>\n",
       "      <td>&lt;NA&gt;</td>\n",
       "      <td>&lt;NA&gt;</td>\n",
       "      <td>&lt;NA&gt;</td>\n",
       "      <td>SUCCESS ACADEMY CHARTER SCHOOL-UNION SQUARE, N...</td>\n",
       "      <td>https://ap.rdcpix.com/2775512298/d63c7c75097c0...</td>\n",
       "      <td>https://ap.rdcpix.com/2775512298/d63c7c75097c0...</td>\n",
       "    </tr>\n",
       "    <tr>\n",
       "      <th>3</th>\n",
       "      <td>https://www.realtor.com/realestateandhomes-det...</td>\n",
       "      <td>4018399339</td>\n",
       "      <td>&lt;NA&gt;</td>\n",
       "      <td>142-E-16th-St-Apt-14E_New-York_NY_10003_M40183...</td>\n",
       "      <td>&lt;NA&gt;</td>\n",
       "      <td>&lt;NA&gt;</td>\n",
       "      <td>SOLD</td>\n",
       "      <td>&lt;NA&gt;</td>\n",
       "      <td>&lt;NA&gt;</td>\n",
       "      <td>CONDO</td>\n",
       "      <td>...</td>\n",
       "      <td>&lt;NA&gt;</td>\n",
       "      <td>&lt;NA&gt;</td>\n",
       "      <td>&lt;NA&gt;</td>\n",
       "      <td>&lt;NA&gt;</td>\n",
       "      <td>&lt;NA&gt;</td>\n",
       "      <td>&lt;NA&gt;</td>\n",
       "      <td>&lt;NA&gt;</td>\n",
       "      <td>SUCCESS ACADEMY CHARTER SCHOOL-UNION SQUARE, N...</td>\n",
       "      <td>https://ap.rdcpix.com/72200233/7d2ec86eb335256...</td>\n",
       "      <td>https://ap.rdcpix.com/72200233/7d2ec86eb335256...</td>\n",
       "    </tr>\n",
       "    <tr>\n",
       "      <th>4</th>\n",
       "      <td>https://www.realtor.com/realestateandhomes-det...</td>\n",
       "      <td>4492127150</td>\n",
       "      <td>&lt;NA&gt;</td>\n",
       "      <td>201-E-15th-St-Apt-7H_New-York_NY_10003_M44921-...</td>\n",
       "      <td>&lt;NA&gt;</td>\n",
       "      <td>&lt;NA&gt;</td>\n",
       "      <td>SOLD</td>\n",
       "      <td>&lt;NA&gt;</td>\n",
       "      <td>&lt;NA&gt;</td>\n",
       "      <td>COOP</td>\n",
       "      <td>...</td>\n",
       "      <td>&lt;NA&gt;</td>\n",
       "      <td>&lt;NA&gt;</td>\n",
       "      <td>&lt;NA&gt;</td>\n",
       "      <td>&lt;NA&gt;</td>\n",
       "      <td>&lt;NA&gt;</td>\n",
       "      <td>&lt;NA&gt;</td>\n",
       "      <td>&lt;NA&gt;</td>\n",
       "      <td>SUCCESS ACADEMY CHARTER SCHOOL-UNION SQUARE, N...</td>\n",
       "      <td>https://ap.rdcpix.com/c16ca2ad487138a1e1f3482e...</td>\n",
       "      <td>https://ap.rdcpix.com/c16ca2ad487138a1e1f3482e...</td>\n",
       "    </tr>\n",
       "  </tbody>\n",
       "</table>\n",
       "<p>5 rows × 64 columns</p>\n",
       "</div>"
      ],
      "text/plain": [
       "                                        property_url property_id  listing_id  \\\n",
       "0  https://www.realtor.com/realestateandhomes-det...  9454096063  2969816782   \n",
       "1  https://www.realtor.com/realestateandhomes-det...  4103114457        <NA>   \n",
       "2  https://www.realtor.com/realestateandhomes-det...  3590652261        <NA>   \n",
       "3  https://www.realtor.com/realestateandhomes-det...  4018399339        <NA>   \n",
       "4  https://www.realtor.com/realestateandhomes-det...  4492127150        <NA>   \n",
       "\n",
       "                                           permalink   mls    mls_id status  \\\n",
       "0  78-Irving-Pl-Unit-Carriage_New-York_NY_10003_M...  DENY  23110201   SOLD   \n",
       "1       243-E-13th-St_New-York_NY_10003_M41031-14457  <NA>      <NA>   SOLD   \n",
       "2  28-E-10th-St-Apt-1K_New-York_NY_10003_M35906-5...  <NA>      <NA>   SOLD   \n",
       "3  142-E-16th-St-Apt-14E_New-York_NY_10003_M40183...  <NA>      <NA>   SOLD   \n",
       "4  201-E-15th-St-Apt-7H_New-York_NY_10003_M44921-...  <NA>      <NA>   SOLD   \n",
       "\n",
       "  mls_status                                               text   style  ...  \\\n",
       "0       Sold  Own a piece of NYC history on a quintessential...  CONDOS  ...   \n",
       "1       <NA>                                               <NA>   OTHER  ...   \n",
       "2       <NA>                                               <NA>   CONDO  ...   \n",
       "3       <NA>                                               <NA>   CONDO  ...   \n",
       "4       <NA>                                               <NA>    COOP  ...   \n",
       "\n",
       "  builder_id builder_name office_id office_mls_set      office_name  \\\n",
       "0       <NA>         <NA>   2277876      O-DENY-50  Douglas Elliman   \n",
       "1       <NA>         <NA>      <NA>           <NA>             <NA>   \n",
       "2       <NA>         <NA>      <NA>           <NA>             <NA>   \n",
       "3       <NA>         <NA>      <NA>           <NA>             <NA>   \n",
       "4       <NA>         <NA>      <NA>           <NA>             <NA>   \n",
       "\n",
       "               office_email  \\\n",
       "0  lead.manager@elliman.com   \n",
       "1                      <NA>   \n",
       "2                      <NA>   \n",
       "3                      <NA>   \n",
       "4                      <NA>   \n",
       "\n",
       "                                       office_phones  \\\n",
       "0  [{'number': '2128917000', 'type': 'Office', 'p...   \n",
       "1                                               <NA>   \n",
       "2                                               <NA>   \n",
       "3                                               <NA>   \n",
       "4                                               <NA>   \n",
       "\n",
       "                                      nearby_schools  \\\n",
       "0  SUCCESS ACADEMY CHARTER SCHOOL-UNION SQUARE, N...   \n",
       "1  SUCCESS ACADEMY CHARTER SCHOOL-UNION SQUARE, N...   \n",
       "2  SUCCESS ACADEMY CHARTER SCHOOL-UNION SQUARE, N...   \n",
       "3  SUCCESS ACADEMY CHARTER SCHOOL-UNION SQUARE, N...   \n",
       "4  SUCCESS ACADEMY CHARTER SCHOOL-UNION SQUARE, N...   \n",
       "\n",
       "                                       primary_photo  \\\n",
       "0  https://ap.rdcpix.com/40dc180fb1a4a48f3acc5118...   \n",
       "1  https://ar.rdcpix.com/780681421/a23b8931dec935...   \n",
       "2  https://ap.rdcpix.com/2775512298/d63c7c75097c0...   \n",
       "3  https://ap.rdcpix.com/72200233/7d2ec86eb335256...   \n",
       "4  https://ap.rdcpix.com/c16ca2ad487138a1e1f3482e...   \n",
       "\n",
       "                                          alt_photos  \n",
       "0  https://ap.rdcpix.com/40dc180fb1a4a48f3acc5118...  \n",
       "1  https://ar.rdcpix.com/780681421/a23b8931dec935...  \n",
       "2  https://ap.rdcpix.com/2775512298/d63c7c75097c0...  \n",
       "3  https://ap.rdcpix.com/72200233/7d2ec86eb335256...  \n",
       "4  https://ap.rdcpix.com/c16ca2ad487138a1e1f3482e...  \n",
       "\n",
       "[5 rows x 64 columns]"
      ]
     },
     "execution_count": 5,
     "metadata": {},
     "output_type": "execute_result"
    }
   ],
   "source": [
    "print(len(all_properties)) # result: 4088 properties\n",
    "all_properties.head() # just checking"
   ]
  },
  {
   "cell_type": "markdown",
   "metadata": {},
   "source": [
    "# 3. Explore the Data\n",
    "Gain insights into the data you have from step 2, making sure to identify any bias"
   ]
  },
  {
   "cell_type": "code",
   "execution_count": null,
   "metadata": {},
   "outputs": [],
   "source": []
  },
  {
   "cell_type": "markdown",
   "metadata": {},
   "source": [
    "# 4.Prepare the Data\n",
    "\n",
    "\n",
    "Apply any data transformations and explain what and why\n"
   ]
  },
  {
   "cell_type": "code",
   "execution_count": null,
   "metadata": {},
   "outputs": [],
   "source": []
  },
  {
   "cell_type": "markdown",
   "metadata": {},
   "source": [
    "# 5. Model the data\n",
    "Using selected ML models, experment with your choices and describe your findings. Finish by selecting a Model to continue with\n"
   ]
  },
  {
   "cell_type": "code",
   "execution_count": null,
   "metadata": {},
   "outputs": [],
   "source": []
  },
  {
   "cell_type": "markdown",
   "metadata": {},
   "source": [
    "# 6. Fine Tune the Model\n",
    "\n",
    "With the select model descibe the steps taken to acheve the best rusults possiable \n"
   ]
  },
  {
   "cell_type": "code",
   "execution_count": null,
   "metadata": {},
   "outputs": [],
   "source": []
  },
  {
   "cell_type": "markdown",
   "metadata": {},
   "source": [
    "# 7. Present\n",
    "In a customer faceing Document provide summery of finding and detail approach taken\n"
   ]
  },
  {
   "cell_type": "code",
   "execution_count": null,
   "metadata": {},
   "outputs": [],
   "source": []
  },
  {
   "cell_type": "markdown",
   "metadata": {},
   "source": [
    "# 8. Launch the Model System\n",
    "Define your production run code, This should be self susficent and require only your model pramaters \n"
   ]
  },
  {
   "cell_type": "code",
   "execution_count": null,
   "metadata": {},
   "outputs": [],
   "source": [
    "def infrence(prams):\n",
    "    results = m.run(prams)\n",
    "    return results "
   ]
  }
 ],
 "metadata": {
  "kernelspec": {
   "display_name": "Python 3 (ipykernel)",
   "language": "python",
   "name": "python3"
  },
  "language_info": {
   "codemirror_mode": {
    "name": "ipython",
    "version": 3
   },
   "file_extension": ".py",
   "mimetype": "text/x-python",
   "name": "python",
   "nbconvert_exporter": "python",
   "pygments_lexer": "ipython3",
   "version": "3.10.10"
  },
  "toc-autonumbering": false,
  "toc-showmarkdowntxt": false
 },
 "nbformat": 4,
 "nbformat_minor": 4
}
